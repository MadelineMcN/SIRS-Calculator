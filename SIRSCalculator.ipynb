{
  "metadata": {
    "language_info": {
      "codemirror_mode": {
        "name": "python",
        "version": 3
      },
      "file_extension": ".py",
      "mimetype": "text/x-python",
      "name": "python",
      "nbconvert_exporter": "python",
      "pygments_lexer": "ipython3",
      "version": "3.8"
    },
    "kernelspec": {
      "name": "python",
      "display_name": "Python (Pyodide)",
      "language": "python"
    }
  },
  "nbformat_minor": 4,
  "nbformat": 4,
  "cells": [
    {
      "cell_type": "code",
      "source": "# This Calculator is intended to calculate the 'SIRS score' for a patient, given their temperature, heart rate, respiratory rate and white cell count.\n# Madeline McNeeley 08/2022",
      "metadata": {
        "trusted": true
      },
      "execution_count": 1,
      "outputs": []
    },
    {
      "cell_type": "code",
      "source": "SIRS_score = 0;",
      "metadata": {
        "trusted": true
      },
      "execution_count": 34,
      "outputs": []
    },
    {
      "cell_type": "code",
      "source": "# Tempurature\n\nwhile True:\n        temp = input(\"What is the patient's temperature? \")\n\n        try:\n            #Tries to convert the string to a float, and sees if any errors occur (see below) \n            temp = float(temp)\n        except ValueError:\n            #If an error occurs, then it prompts the user to input a number\n            print(\"You did not enter a number. Please enter a number.\")\n            continue\n        else:\n            #break - breaks the loop, saying that it's finished\n            break\n    \n    print(\"Temperature: \", temp)\n    if(temp > 38.0 or temp < 36.0):\n        SIRS_score += 1\n        print(\"Points: \", SIRS_score)\n    else:\n        print(\"Temperature is normal.\")\n        print(\"Points: \", SIRS_score)",
      "metadata": {
        "trusted": true
      },
      "execution_count": null,
      "outputs": []
    },
    {
      "cell_type": "code",
      "source": "# Heart Rate\n\nwhile True:\n        heartRate = input(\"What is the patient's heart rate per minute? \")\n        try:\n            heartRate = int(heartRate)\n        except:\n            print(\"You did not enter a number. Please enter an integer.\")\n            continue\n        else:\n            break\n    \n    print(\"Heart rate: \", heartRate)\n    if(heartRate > 90):\n        #adds 1 to the points variable\n        SIRS_score += 1\n        print(\"Points: \", SIRS_score)\n    else:\n        print(\"Heart rate is normal.\")\n        print(\"Points: \", SIRS_score)",
      "metadata": {
        "trusted": true
      },
      "execution_count": null,
      "outputs": []
    },
    {
      "cell_type": "code",
      "source": "# Respiratory Rate & PaCO2\nwhile True:\n        respRate = input(\"What is the patient's respiratory rate per minute? \")\n        try:\n            respRate = int(respRate)\n        except:\n            print(\"You did not enter a number. Please enter an integer.\")\n            continue\n        else:\n            break\n\n    print(\"Respiratory rate: \", respRate)\n\n    while True:\n        paCO2 = input(\"What is the patient's PaCO2 in mmHg? \")\n        try:\n            paCO2 = float(paCO2)\n        except:\n            print(\"You did not enter a number. Please enter a number\")\n            continue\n        else:\n            break\n    \n    print(\"PaCO2: \", paCO2)\n        \n    if(respRate > 20 or paCO2 < 32):\n        SIRS_score += 1\n        print(\"Points: \", SIRS_score)\n    else:\n        print(\"Respiratory rate and PaCO2 are both normal.\")\n        print(\"Points: \", SIRS_score)",
      "metadata": {
        "trusted": true
      },
      "execution_count": null,
      "outputs": []
    },
    {
      "cell_type": "code",
      "source": "# White Cell Count\nwhile True:\n        wbc = input(\"What is the patient's White Blood Cell count (x10^9/L)?\")\n        try:\n            wbc = int(wbc)\n        except:\n            print(\"You did not enter a number. Please enter an integer.\")\n            continue\n        else:\n            break\n    print(\"White Blood Cell count: \", wbc, \"x10^9/L\")\n    \n    if(wbc > 12 or wbc < 4):\n        SIRS_score += 1\n        print(\"Points: \", SIRS_score)\n    else:\n        print(\"WBC is normal.\")\n        print(\"Points: \", SIRS_score)",
      "metadata": {
        "trusted": true
      },
      "execution_count": null,
      "outputs": []
    },
    {
      "cell_type": "code",
      "source": "# Total score\nprint(\"Total score: \", SIRS_score)\nif(SIRS_score >=2):\n        print(\"The patient has met the criteria for SIRS.\")\n    else:\n        print(\"Your patient has NOT met the criteria for SIRS.\")",
      "metadata": {
        "trusted": true
      },
      "execution_count": null,
      "outputs": []
    }
  ]
}